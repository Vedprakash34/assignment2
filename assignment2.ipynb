{
 "cells": [
  {
   "cell_type": "code",
   "execution_count": 1,
   "id": "7f7a9139-7d51-4272-8243-fd40200f6faf",
   "metadata": {},
   "outputs": [
    {
     "name": "stdin",
     "output_type": "stream",
     "text": [
      "Please enter your percentage 99\n"
     ]
    },
    {
     "name": "stdout",
     "output_type": "stream",
     "text": [
      "your grade is A\n"
     ]
    }
   ],
   "source": [
    "# qno.1\n",
    "percentage=float(input(\"Please enter your percentage\"))\n",
    "if percentage>90:\n",
    "    print(\"your grade is A\")\n",
    "elif percentage > 80 and percentage <=90:\n",
    "    print(\"your grade is B\")\n",
    "elif percentage > 60 and percentage <=80:\n",
    "    print(\"your grade is C\")\n",
    "elif percentage >= 60:\n",
    "    print(\"your grade is D\")"
   ]
  },
  {
   "cell_type": "code",
   "execution_count": 2,
   "id": "fd9b4aa3-29b8-4e24-a746-9b3441ffd07d",
   "metadata": {},
   "outputs": [
    {
     "name": "stdin",
     "output_type": "stream",
     "text": [
      "What is the cost of your bike? 88888888\n"
     ]
    },
    {
     "name": "stdout",
     "output_type": "stream",
     "text": [
      "the tax percentage of your bike is : 15%\n"
     ]
    }
   ],
   "source": [
    "# qno.2=\n",
    "price=float(input(\"What is the cost of your bike?\"))\n",
    "if price>100000:\n",
    "    print(\"the tax percentage of your bike is : 15%\")\n",
    "elif price>50000 and price<=100000:\n",
    "        print(\"the tax percentage of your bike is : 10%\")\n",
    "elif  price<=50000:\n",
    "        print(\"the tax percentage of your bike is : 5%\")\n"
   ]
  },
  {
   "cell_type": "code",
   "execution_count": 5,
   "id": "c9e4c7e9-138b-4992-826c-f009a4e6ad59",
   "metadata": {},
   "outputs": [
    {
     "name": "stdin",
     "output_type": "stream",
     "text": [
      "Please enter the name of city jaipur\n"
     ]
    },
    {
     "name": "stdout",
     "output_type": "stream",
     "text": [
      "the monument in your city is Jai mahal\n"
     ]
    }
   ],
   "source": [
    "#qn0.3\n",
    "city=str(input(\"Please enter the name of city\"))\n",
    "if city == ' delhi' or city== 'Delhi' :\n",
    "    print(\"the monument in your city is Red fort\")\n",
    "if city == 'Agra' or city=='agra':\n",
    "    print(\"the monument in your city is  Taj mahal\")\n",
    "if city == \"jaipur\" or city=='Jaipur':\n",
    "        print(\"the monument in your city is Jai mahal\")"
   ]
  },
  {
   "cell_type": "code",
   "execution_count": 8,
   "id": "7b027437-744c-4cf1-af15-aa9e010ceb33",
   "metadata": {},
   "outputs": [
    {
     "name": "stdout",
     "output_type": "stream",
     "text": [
      "4\n"
     ]
    }
   ],
   "source": [
    "#qn0.4\n",
    "j=0\n",
    "for i in range(1,10):\n",
    "    if i%3==0:\n",
    "        j=j+1\n",
    "print(j)"
   ]
  },
  {
   "cell_type": "code",
   "execution_count": null,
   "id": "442e8289-598b-49c6-8912-bc697eb035d9",
   "metadata": {},
   "outputs": [],
   "source": []
  }
 ],
 "metadata": {
  "kernelspec": {
   "display_name": "Python 3 (ipykernel)",
   "language": "python",
   "name": "python3"
  },
  "language_info": {
   "codemirror_mode": {
    "name": "ipython",
    "version": 3
   },
   "file_extension": ".py",
   "mimetype": "text/x-python",
   "name": "python",
   "nbconvert_exporter": "python",
   "pygments_lexer": "ipython3",
   "version": "3.10.8"
  }
 },
 "nbformat": 4,
 "nbformat_minor": 5
}
